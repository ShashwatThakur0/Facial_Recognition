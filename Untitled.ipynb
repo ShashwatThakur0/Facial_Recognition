{
 "cells": [
  {
   "cell_type": "code",
   "execution_count": 14,
   "id": "70028ede-7965-4e16-85a5-c3a9ac39f11c",
   "metadata": {},
   "outputs": [],
   "source": [
    "from keras.utils import to_categorical \n",
    "from keras_preprocessing.image import load_img\n",
    "from keras.models import Sequential\n",
    "from keras.layers import Dense, Conv2D, Dropout, Flatten, MaxPooling2D\n",
    "import os \n",
    "import pandas as pd \n",
    "import numpy as np"
   ]
  },
  {
   "cell_type": "code",
   "execution_count": 15,
   "id": "9fd826e3",
   "metadata": {},
   "outputs": [],
   "source": [
    "TRAIN_DIR = 'images/train'\n",
    "TEST_DIR = 'images/test'"
   ]
  },
  {
   "cell_type": "code",
   "execution_count": 16,
   "id": "b579bd12",
   "metadata": {},
   "outputs": [],
   "source": [
    "def createdataframe (dir):\n",
    "  images_path = []\n",
    "  labels = []\n",
    "  for lebel in os.listdir(dir):\n",
    "    for imagename in os.listdir(os.path.join(dir,lebel)):\n",
    "      images_path.append(os.path.join(dir,lebel,imagename))\n",
    "      labels.append(lebel)\n",
    "    print(lebel, \"completed\")\n",
    "  return images_path, labels"
   ]
  },
  {
   "cell_type": "code",
   "execution_count": 17,
   "id": "bde3242b",
   "metadata": {},
   "outputs": [
    {
     "name": "stdout",
     "output_type": "stream",
     "text": [
      "Anger completed\n",
      "Disgust completed\n",
      "Fear completed\n",
      "Happy completed\n",
      "Neutral completed\n",
      "Sad completed\n",
      "Surprised completed\n"
     ]
    }
   ],
   "source": [
    "train = pd.DataFrame()\n",
    "train['image'], train['label'] = createdataframe(TRAIN_DIR)"
   ]
  },
  {
   "cell_type": "code",
   "execution_count": 18,
   "id": "cabf62c3",
   "metadata": {},
   "outputs": [
    {
     "name": "stdout",
     "output_type": "stream",
     "text": [
      "                            image      label\n",
      "0        images/train\\Anger\\0.jpg      Anger\n",
      "1        images/train\\Anger\\1.jpg      Anger\n",
      "2       images/train\\Anger\\10.jpg      Anger\n",
      "3       images/train\\Anger\\11.jpg      Anger\n",
      "4       images/train\\Anger\\12.jpg      Anger\n",
      "..                            ...        ...\n",
      "128  images/train\\Surprised\\5.jpg  Surprised\n",
      "129  images/train\\Surprised\\6.jpg  Surprised\n",
      "130  images/train\\Surprised\\7.jpg  Surprised\n",
      "131  images/train\\Surprised\\8.jpg  Surprised\n",
      "132  images/train\\Surprised\\9.jpg  Surprised\n",
      "\n",
      "[133 rows x 2 columns]\n"
     ]
    }
   ],
   "source": [
    "print(train)"
   ]
  },
  {
   "cell_type": "code",
   "execution_count": 20,
   "id": "3c37a068",
   "metadata": {},
   "outputs": [
    {
     "name": "stdout",
     "output_type": "stream",
     "text": [
      "Anger completed\n",
      "Disgust completed\n",
      "Fear completed\n",
      "Happy completed\n",
      "Neutral completed\n",
      "Sad completed\n",
      "Surprised completed\n"
     ]
    }
   ],
   "source": [
    "test = pd.DataFrame()\n",
    "test['image'], test['label'] = createdataframe(TEST_DIR)"
   ]
  },
  {
   "cell_type": "code",
   "execution_count": 21,
   "id": "d7cdceff",
   "metadata": {},
   "outputs": [
    {
     "name": "stdout",
     "output_type": "stream",
     "text": [
      "                           image      label\n",
      "0        images/test\\Anger\\0.jpg      Anger\n",
      "1        images/test\\Anger\\1.jpg      Anger\n",
      "2       images/test\\Anger\\10.jpg      Anger\n",
      "3       images/test\\Anger\\11.jpg      Anger\n",
      "4       images/test\\Anger\\12.jpg      Anger\n",
      "..                           ...        ...\n",
      "128  images/test\\Surprised\\5.jpg  Surprised\n",
      "129  images/test\\Surprised\\6.jpg  Surprised\n",
      "130  images/test\\Surprised\\7.jpg  Surprised\n",
      "131  images/test\\Surprised\\8.jpg  Surprised\n",
      "132  images/test\\Surprised\\9.jpg  Surprised\n",
      "\n",
      "[133 rows x 2 columns]\n"
     ]
    }
   ],
   "source": [
    "print(test)"
   ]
  },
  {
   "cell_type": "code",
   "execution_count": 22,
   "id": "9b65a130",
   "metadata": {},
   "outputs": [],
   "source": [
    "from tqdm.notebook import tqdm"
   ]
  },
  {
   "cell_type": "code",
   "execution_count": 30,
   "id": "7ae4eb63",
   "metadata": {},
   "outputs": [],
   "source": [
    "def extract_features(images):\n",
    "    features = []\n",
    "    for image in tqdm(images):\n",
    "        img = load_img(image, color_mode=\"grayscale\")\n",
    "        img = img.resize((128, 128))  # resize the image to 128x128 pixels\n",
    "        img = np.array(img)\n",
    "        features.append(img)\n",
    "    features = np.array(features)\n",
    "    return features"
   ]
  },
  {
   "cell_type": "code",
   "execution_count": 31,
   "id": "65b9cc04",
   "metadata": {},
   "outputs": [
    {
     "data": {
      "application/vnd.jupyter.widget-view+json": {
       "model_id": "face353bfd0946379e2a7fc06b276be2",
       "version_major": 2,
       "version_minor": 0
      },
      "text/plain": [
       "  0%|          | 0/133 [00:00<?, ?it/s]"
      ]
     },
     "metadata": {},
     "output_type": "display_data"
    }
   ],
   "source": [
    "train_features = extract_features(train['image'])"
   ]
  },
  {
   "cell_type": "code",
   "execution_count": 32,
   "id": "ce3b331f",
   "metadata": {},
   "outputs": [
    {
     "data": {
      "application/vnd.jupyter.widget-view+json": {
       "model_id": "454187ffc29840b383493d91eb05c4a1",
       "version_major": 2,
       "version_minor": 0
      },
      "text/plain": [
       "  0%|          | 0/133 [00:00<?, ?it/s]"
      ]
     },
     "metadata": {},
     "output_type": "display_data"
    }
   ],
   "source": [
    "test_features = extract_features(test['image'])"
   ]
  },
  {
   "cell_type": "code",
   "execution_count": 33,
   "id": "f1a5ffbd",
   "metadata": {},
   "outputs": [],
   "source": [
    "x_train = train_features/255.0\n",
    "x_test = test_features/255.0"
   ]
  },
  {
   "cell_type": "code",
   "execution_count": null,
   "id": "dedae011",
   "metadata": {},
   "outputs": [],
   "source": []
  }
 ],
 "metadata": {
  "kernelspec": {
   "display_name": "Facial_Recognition",
   "language": "python",
   "name": "python3"
  },
  "language_info": {
   "codemirror_mode": {
    "name": "ipython",
    "version": 3
   },
   "file_extension": ".py",
   "mimetype": "text/x-python",
   "name": "python",
   "nbconvert_exporter": "python",
   "pygments_lexer": "ipython3",
   "version": "3.9.21"
  }
 },
 "nbformat": 4,
 "nbformat_minor": 5
}
